{
  "nbformat": 4,
  "nbformat_minor": 0,
  "metadata": {
    "colab": {
      "provenance": [],
      "include_colab_link": true
    },
    "kernelspec": {
      "name": "python3",
      "display_name": "Python 3"
    },
    "language_info": {
      "name": "python"
    }
  },
  "cells": [
    {
      "cell_type": "markdown",
      "metadata": {
        "id": "view-in-github",
        "colab_type": "text"
      },
      "source": [
        "<a href=\"https://colab.research.google.com/github/PozdeevDA1/ML/blob/main/Regression_Students.ipynb\" target=\"_parent\"><img src=\"https://colab.research.google.com/assets/colab-badge.svg\" alt=\"Open In Colab\"/></a>"
      ]
    },
    {
      "cell_type": "markdown",
      "source": [
        "Импорт библиотек"
      ],
      "metadata": {
        "id": "9eFThHrPlCFg"
      }
    },
    {
      "cell_type": "code",
      "execution_count": 68,
      "metadata": {
        "id": "zqaeN2z8v3qR"
      },
      "outputs": [],
      "source": [
        "import pandas as pd\n",
        "import seaborn as sns\n",
        "from sklearn.model_selection import train_test_split\n",
        "from sklearn.decomposition import PCA\n",
        "from sklearn.linear_model import LinearRegression\n",
        "from sklearn.metrics import r2_score"
      ]
    },
    {
      "cell_type": "markdown",
      "source": [
        "Всего датасет содержит 159 записей. Мы предварительно зарезервировали часть датасета для задания по преодолению бейслайна (baseline). В настоящем задании подразумевается работа с датасетом, содержащим 119 записей."
      ],
      "metadata": {
        "id": "QTq1SRHEzF6J"
      }
    },
    {
      "cell_type": "markdown",
      "source": [
        "# 0. Применение полиномиальной регрессии для предсказания непрерывного параметра"
      ],
      "metadata": {
        "id": "bjyhxYK-eoem"
      }
    },
    {
      "cell_type": "markdown",
      "source": [
        "Представленный набор данных — это набор данных о семи различных типах рыб, продаваемых в некоторой рыбной лавке. Наша цель заключается в том, чтобы предсказать массу рыбы по каким-то косвенным признакам, известным о рыбе. Сами признаки, быть может, нужно синтезировать из тех, что известны."
      ],
      "metadata": {
        "id": "VpkXz4mpeygZ"
      }
    },
    {
      "cell_type": "markdown",
      "source": [
        "При помощи <code>train_test_split()</code> разбейте набор данных на обучающую и тестовую выборки с параметрами, указанными в вашем задании. Используйте стратификацию по колонке <code>Species</code>. Стратификация позволит сохранить доли представленных объектов (по представителям типов рыб) в тренировочной и тестовой выборках."
      ],
      "metadata": {
        "id": "K497OQtR0cbN"
      }
    },
    {
      "cell_type": "code",
      "source": [
        "df=pd.read_csv('fish_train.csv', sep = ',')\n",
        "df.head(3)"
      ],
      "metadata": {
        "id": "KXoU2OWH0fn5",
        "colab": {
          "base_uri": "https://localhost:8080/",
          "height": 143
        },
        "outputId": "8df7d3b4-70eb-40fc-ae52-156a1a4991df"
      },
      "execution_count": 69,
      "outputs": [
        {
          "output_type": "execute_result",
          "data": {
            "text/plain": [
              "  Species  Weight  Length1  Length2  Length3   Height   Width\n",
              "0   Roach   150.0     20.4     22.0     24.7   5.8045  3.7544\n",
              "1   Perch   250.0     25.4     27.5     28.9   7.2828  4.5662\n",
              "2   Bream   430.0     26.5     29.0     34.0  12.4440  5.1340"
            ],
            "text/html": [
              "\n",
              "  <div id=\"df-7107c95d-ebe3-490c-b514-1298d8e65eef\" class=\"colab-df-container\">\n",
              "    <div>\n",
              "<style scoped>\n",
              "    .dataframe tbody tr th:only-of-type {\n",
              "        vertical-align: middle;\n",
              "    }\n",
              "\n",
              "    .dataframe tbody tr th {\n",
              "        vertical-align: top;\n",
              "    }\n",
              "\n",
              "    .dataframe thead th {\n",
              "        text-align: right;\n",
              "    }\n",
              "</style>\n",
              "<table border=\"1\" class=\"dataframe\">\n",
              "  <thead>\n",
              "    <tr style=\"text-align: right;\">\n",
              "      <th></th>\n",
              "      <th>Species</th>\n",
              "      <th>Weight</th>\n",
              "      <th>Length1</th>\n",
              "      <th>Length2</th>\n",
              "      <th>Length3</th>\n",
              "      <th>Height</th>\n",
              "      <th>Width</th>\n",
              "    </tr>\n",
              "  </thead>\n",
              "  <tbody>\n",
              "    <tr>\n",
              "      <th>0</th>\n",
              "      <td>Roach</td>\n",
              "      <td>150.0</td>\n",
              "      <td>20.4</td>\n",
              "      <td>22.0</td>\n",
              "      <td>24.7</td>\n",
              "      <td>5.8045</td>\n",
              "      <td>3.7544</td>\n",
              "    </tr>\n",
              "    <tr>\n",
              "      <th>1</th>\n",
              "      <td>Perch</td>\n",
              "      <td>250.0</td>\n",
              "      <td>25.4</td>\n",
              "      <td>27.5</td>\n",
              "      <td>28.9</td>\n",
              "      <td>7.2828</td>\n",
              "      <td>4.5662</td>\n",
              "    </tr>\n",
              "    <tr>\n",
              "      <th>2</th>\n",
              "      <td>Bream</td>\n",
              "      <td>430.0</td>\n",
              "      <td>26.5</td>\n",
              "      <td>29.0</td>\n",
              "      <td>34.0</td>\n",
              "      <td>12.4440</td>\n",
              "      <td>5.1340</td>\n",
              "    </tr>\n",
              "  </tbody>\n",
              "</table>\n",
              "</div>\n",
              "    <div class=\"colab-df-buttons\">\n",
              "\n",
              "  <div class=\"colab-df-container\">\n",
              "    <button class=\"colab-df-convert\" onclick=\"convertToInteractive('df-7107c95d-ebe3-490c-b514-1298d8e65eef')\"\n",
              "            title=\"Convert this dataframe to an interactive table.\"\n",
              "            style=\"display:none;\">\n",
              "\n",
              "  <svg xmlns=\"http://www.w3.org/2000/svg\" height=\"24px\" viewBox=\"0 -960 960 960\">\n",
              "    <path d=\"M120-120v-720h720v720H120Zm60-500h600v-160H180v160Zm220 220h160v-160H400v160Zm0 220h160v-160H400v160ZM180-400h160v-160H180v160Zm440 0h160v-160H620v160ZM180-180h160v-160H180v160Zm440 0h160v-160H620v160Z\"/>\n",
              "  </svg>\n",
              "    </button>\n",
              "\n",
              "  <style>\n",
              "    .colab-df-container {\n",
              "      display:flex;\n",
              "      gap: 12px;\n",
              "    }\n",
              "\n",
              "    .colab-df-convert {\n",
              "      background-color: #E8F0FE;\n",
              "      border: none;\n",
              "      border-radius: 50%;\n",
              "      cursor: pointer;\n",
              "      display: none;\n",
              "      fill: #1967D2;\n",
              "      height: 32px;\n",
              "      padding: 0 0 0 0;\n",
              "      width: 32px;\n",
              "    }\n",
              "\n",
              "    .colab-df-convert:hover {\n",
              "      background-color: #E2EBFA;\n",
              "      box-shadow: 0px 1px 2px rgba(60, 64, 67, 0.3), 0px 1px 3px 1px rgba(60, 64, 67, 0.15);\n",
              "      fill: #174EA6;\n",
              "    }\n",
              "\n",
              "    .colab-df-buttons div {\n",
              "      margin-bottom: 4px;\n",
              "    }\n",
              "\n",
              "    [theme=dark] .colab-df-convert {\n",
              "      background-color: #3B4455;\n",
              "      fill: #D2E3FC;\n",
              "    }\n",
              "\n",
              "    [theme=dark] .colab-df-convert:hover {\n",
              "      background-color: #434B5C;\n",
              "      box-shadow: 0px 1px 3px 1px rgba(0, 0, 0, 0.15);\n",
              "      filter: drop-shadow(0px 1px 2px rgba(0, 0, 0, 0.3));\n",
              "      fill: #FFFFFF;\n",
              "    }\n",
              "  </style>\n",
              "\n",
              "    <script>\n",
              "      const buttonEl =\n",
              "        document.querySelector('#df-7107c95d-ebe3-490c-b514-1298d8e65eef button.colab-df-convert');\n",
              "      buttonEl.style.display =\n",
              "        google.colab.kernel.accessAllowed ? 'block' : 'none';\n",
              "\n",
              "      async function convertToInteractive(key) {\n",
              "        const element = document.querySelector('#df-7107c95d-ebe3-490c-b514-1298d8e65eef');\n",
              "        const dataTable =\n",
              "          await google.colab.kernel.invokeFunction('convertToInteractive',\n",
              "                                                    [key], {});\n",
              "        if (!dataTable) return;\n",
              "\n",
              "        const docLinkHtml = 'Like what you see? Visit the ' +\n",
              "          '<a target=\"_blank\" href=https://colab.research.google.com/notebooks/data_table.ipynb>data table notebook</a>'\n",
              "          + ' to learn more about interactive tables.';\n",
              "        element.innerHTML = '';\n",
              "        dataTable['output_type'] = 'display_data';\n",
              "        await google.colab.output.renderOutput(dataTable, element);\n",
              "        const docLink = document.createElement('div');\n",
              "        docLink.innerHTML = docLinkHtml;\n",
              "        element.appendChild(docLink);\n",
              "      }\n",
              "    </script>\n",
              "  </div>\n",
              "\n",
              "\n",
              "<div id=\"df-29a1a6e4-e418-43cd-97f4-aaaf37bfa65d\">\n",
              "  <button class=\"colab-df-quickchart\" onclick=\"quickchart('df-29a1a6e4-e418-43cd-97f4-aaaf37bfa65d')\"\n",
              "            title=\"Suggest charts\"\n",
              "            style=\"display:none;\">\n",
              "\n",
              "<svg xmlns=\"http://www.w3.org/2000/svg\" height=\"24px\"viewBox=\"0 0 24 24\"\n",
              "     width=\"24px\">\n",
              "    <g>\n",
              "        <path d=\"M19 3H5c-1.1 0-2 .9-2 2v14c0 1.1.9 2 2 2h14c1.1 0 2-.9 2-2V5c0-1.1-.9-2-2-2zM9 17H7v-7h2v7zm4 0h-2V7h2v10zm4 0h-2v-4h2v4z\"/>\n",
              "    </g>\n",
              "</svg>\n",
              "  </button>\n",
              "\n",
              "<style>\n",
              "  .colab-df-quickchart {\n",
              "      --bg-color: #E8F0FE;\n",
              "      --fill-color: #1967D2;\n",
              "      --hover-bg-color: #E2EBFA;\n",
              "      --hover-fill-color: #174EA6;\n",
              "      --disabled-fill-color: #AAA;\n",
              "      --disabled-bg-color: #DDD;\n",
              "  }\n",
              "\n",
              "  [theme=dark] .colab-df-quickchart {\n",
              "      --bg-color: #3B4455;\n",
              "      --fill-color: #D2E3FC;\n",
              "      --hover-bg-color: #434B5C;\n",
              "      --hover-fill-color: #FFFFFF;\n",
              "      --disabled-bg-color: #3B4455;\n",
              "      --disabled-fill-color: #666;\n",
              "  }\n",
              "\n",
              "  .colab-df-quickchart {\n",
              "    background-color: var(--bg-color);\n",
              "    border: none;\n",
              "    border-radius: 50%;\n",
              "    cursor: pointer;\n",
              "    display: none;\n",
              "    fill: var(--fill-color);\n",
              "    height: 32px;\n",
              "    padding: 0;\n",
              "    width: 32px;\n",
              "  }\n",
              "\n",
              "  .colab-df-quickchart:hover {\n",
              "    background-color: var(--hover-bg-color);\n",
              "    box-shadow: 0 1px 2px rgba(60, 64, 67, 0.3), 0 1px 3px 1px rgba(60, 64, 67, 0.15);\n",
              "    fill: var(--button-hover-fill-color);\n",
              "  }\n",
              "\n",
              "  .colab-df-quickchart-complete:disabled,\n",
              "  .colab-df-quickchart-complete:disabled:hover {\n",
              "    background-color: var(--disabled-bg-color);\n",
              "    fill: var(--disabled-fill-color);\n",
              "    box-shadow: none;\n",
              "  }\n",
              "\n",
              "  .colab-df-spinner {\n",
              "    border: 2px solid var(--fill-color);\n",
              "    border-color: transparent;\n",
              "    border-bottom-color: var(--fill-color);\n",
              "    animation:\n",
              "      spin 1s steps(1) infinite;\n",
              "  }\n",
              "\n",
              "  @keyframes spin {\n",
              "    0% {\n",
              "      border-color: transparent;\n",
              "      border-bottom-color: var(--fill-color);\n",
              "      border-left-color: var(--fill-color);\n",
              "    }\n",
              "    20% {\n",
              "      border-color: transparent;\n",
              "      border-left-color: var(--fill-color);\n",
              "      border-top-color: var(--fill-color);\n",
              "    }\n",
              "    30% {\n",
              "      border-color: transparent;\n",
              "      border-left-color: var(--fill-color);\n",
              "      border-top-color: var(--fill-color);\n",
              "      border-right-color: var(--fill-color);\n",
              "    }\n",
              "    40% {\n",
              "      border-color: transparent;\n",
              "      border-right-color: var(--fill-color);\n",
              "      border-top-color: var(--fill-color);\n",
              "    }\n",
              "    60% {\n",
              "      border-color: transparent;\n",
              "      border-right-color: var(--fill-color);\n",
              "    }\n",
              "    80% {\n",
              "      border-color: transparent;\n",
              "      border-right-color: var(--fill-color);\n",
              "      border-bottom-color: var(--fill-color);\n",
              "    }\n",
              "    90% {\n",
              "      border-color: transparent;\n",
              "      border-bottom-color: var(--fill-color);\n",
              "    }\n",
              "  }\n",
              "</style>\n",
              "\n",
              "  <script>\n",
              "    async function quickchart(key) {\n",
              "      const quickchartButtonEl =\n",
              "        document.querySelector('#' + key + ' button');\n",
              "      quickchartButtonEl.disabled = true;  // To prevent multiple clicks.\n",
              "      quickchartButtonEl.classList.add('colab-df-spinner');\n",
              "      try {\n",
              "        const charts = await google.colab.kernel.invokeFunction(\n",
              "            'suggestCharts', [key], {});\n",
              "      } catch (error) {\n",
              "        console.error('Error during call to suggestCharts:', error);\n",
              "      }\n",
              "      quickchartButtonEl.classList.remove('colab-df-spinner');\n",
              "      quickchartButtonEl.classList.add('colab-df-quickchart-complete');\n",
              "    }\n",
              "    (() => {\n",
              "      let quickchartButtonEl =\n",
              "        document.querySelector('#df-29a1a6e4-e418-43cd-97f4-aaaf37bfa65d button');\n",
              "      quickchartButtonEl.style.display =\n",
              "        google.colab.kernel.accessAllowed ? 'block' : 'none';\n",
              "    })();\n",
              "  </script>\n",
              "</div>\n",
              "    </div>\n",
              "  </div>\n"
            ],
            "application/vnd.google.colaboratory.intrinsic+json": {
              "type": "dataframe",
              "variable_name": "df",
              "summary": "{\n  \"name\": \"df\",\n  \"rows\": 119,\n  \"fields\": [\n    {\n      \"column\": \"Species\",\n      \"properties\": {\n        \"dtype\": \"category\",\n        \"num_unique_values\": 7,\n        \"samples\": [\n          \"Roach\",\n          \"Perch\",\n          \"Parkki\"\n        ],\n        \"semantic_type\": \"\",\n        \"description\": \"\"\n      }\n    },\n    {\n      \"column\": \"Weight\",\n      \"properties\": {\n        \"dtype\": \"number\",\n        \"std\": 338.8342518747996,\n        \"min\": 0.0,\n        \"max\": 1550.0,\n        \"num_unique_values\": 81,\n        \"samples\": [\n          10.0,\n          150.0,\n          1100.0\n        ],\n        \"semantic_type\": \"\",\n        \"description\": \"\"\n      }\n    },\n    {\n      \"column\": \"Length1\",\n      \"properties\": {\n        \"dtype\": \"number\",\n        \"std\": 9.613001865759779,\n        \"min\": 7.5,\n        \"max\": 56.0,\n        \"num_unique_values\": 94,\n        \"samples\": [\n          32.7,\n          29.1,\n          40.0\n        ],\n        \"semantic_type\": \"\",\n        \"description\": \"\"\n      }\n    },\n    {\n      \"column\": \"Length2\",\n      \"properties\": {\n        \"dtype\": \"number\",\n        \"std\": 10.308207741658043,\n        \"min\": 8.4,\n        \"max\": 60.0,\n        \"num_unique_values\": 79,\n        \"samples\": [\n          51.7,\n          22.0,\n          31.5\n        ],\n        \"semantic_type\": \"\",\n        \"description\": \"\"\n      }\n    },\n    {\n      \"column\": \"Length3\",\n      \"properties\": {\n        \"dtype\": \"number\",\n        \"std\": 11.1160859330977,\n        \"min\": 8.8,\n        \"max\": 64.0,\n        \"num_unique_values\": 97,\n        \"samples\": [\n          35.0,\n          24.2,\n          42.3\n        ],\n        \"semantic_type\": \"\",\n        \"description\": \"\"\n      }\n    },\n    {\n      \"column\": \"Height\",\n      \"properties\": {\n        \"dtype\": \"number\",\n        \"std\": 4.231865878021001,\n        \"min\": 1.7388,\n        \"max\": 18.957,\n        \"num_unique_values\": 115,\n        \"samples\": [\n          2.2044,\n          5.6925,\n          8.323\n        ],\n        \"semantic_type\": \"\",\n        \"description\": \"\"\n      }\n    },\n    {\n      \"column\": \"Width\",\n      \"properties\": {\n        \"dtype\": \"number\",\n        \"std\": 1.678795551181348,\n        \"min\": 1.0476,\n        \"max\": 8.142,\n        \"num_unique_values\": 116,\n        \"samples\": [\n          6.8684,\n          3.555,\n          3.63\n        ],\n        \"semantic_type\": \"\",\n        \"description\": \"\"\n      }\n    }\n  ]\n}"
            }
          },
          "metadata": {},
          "execution_count": 69
        }
      ]
    },
    {
      "cell_type": "code",
      "source": [
        "test_size=0.2\n",
        "random_state=35"
      ],
      "metadata": {
        "id": "B3XnsoHD6TQw"
      },
      "execution_count": 70,
      "outputs": []
    },
    {
      "cell_type": "code",
      "source": [
        "species = df['Species']\n",
        "X = df.drop(['Species','Weight'],axis=1)\n",
        "y=df['Weight']"
      ],
      "metadata": {
        "id": "RB5Bcbbu66aF"
      },
      "execution_count": 71,
      "outputs": []
    },
    {
      "cell_type": "code",
      "source": [
        "X_train, X_test, y_train,y_test = train_test_split(X, y, test_size=0.2, random_state=35, stratify=species)"
      ],
      "metadata": {
        "id": "sS5DwbgAMOQB"
      },
      "execution_count": 72,
      "outputs": []
    },
    {
      "cell_type": "code",
      "source": [
        "X_train.columns"
      ],
      "metadata": {
        "colab": {
          "base_uri": "https://localhost:8080/"
        },
        "id": "WtIlzzqHsGYc",
        "outputId": "6a8b2a94-0500-4e39-e3cf-203af6802263"
      },
      "execution_count": 73,
      "outputs": [
        {
          "output_type": "execute_result",
          "data": {
            "text/plain": [
              "Index(['Length1', 'Length2', 'Length3', 'Height', 'Width'], dtype='object')"
            ]
          },
          "metadata": {},
          "execution_count": 73
        }
      ]
    },
    {
      "cell_type": "markdown",
      "source": [
        "Вычислите выборочное среднее колонки <code>Width</code> полученной тренировочной выборки."
      ],
      "metadata": {
        "id": "euRpYppY1xuR"
      }
    },
    {
      "cell_type": "code",
      "source": [
        "print('Среднее колонки Width:', X_train['Width'].mean())"
      ],
      "metadata": {
        "id": "3q_2UVQ_2Avj",
        "colab": {
          "base_uri": "https://localhost:8080/"
        },
        "outputId": "de474178-4694-4945-f451-8e76b6b16a3c"
      },
      "execution_count": 74,
      "outputs": [
        {
          "output_type": "stream",
          "name": "stdout",
          "text": [
            "Среднее колонки Width: 4.561843157894737\n"
          ]
        }
      ]
    },
    {
      "cell_type": "markdown",
      "source": [
        "# 1. Построение базовой модели\n",
        "\n",
        "Избавьтесь от категориальных признаков и обучите модель линейной регрессии (<code>LinearRegression()</code>) на тренировочном наборе данных. Выполните предсказания для тестового набора данных. Оцените модель при помощи метрики <code>r2_score()</code>."
      ],
      "metadata": {
        "id": "cAQId_950UCZ"
      }
    },
    {
      "cell_type": "code",
      "source": [
        "LR=LinearRegression()\n",
        "LR.fit(X_train,y_train)\n",
        "y_predict=LR.predict(X_test)\n",
        "r2=r2_score(y_test,y_predict)\n",
        "r2"
      ],
      "metadata": {
        "id": "J9QyfzCx5FrA",
        "colab": {
          "base_uri": "https://localhost:8080/"
        },
        "outputId": "081d1c1a-bdb7-4f93-ed02-d746b2f73f96"
      },
      "execution_count": 75,
      "outputs": [
        {
          "output_type": "execute_result",
          "data": {
            "text/plain": [
              "0.8417293614893447"
            ]
          },
          "metadata": {},
          "execution_count": 75
        }
      ]
    },
    {
      "cell_type": "markdown",
      "source": [
        "# 2. Добавление предварительной обработки признаков."
      ],
      "metadata": {
        "id": "qPEFdTMe56b9"
      }
    },
    {
      "cell_type": "markdown",
      "source": [
        "## Использование PCA\n",
        "\n",
        "При помощи, например, <code>sns.heatmap()</code>, постройте матрицу корреляций признаков тренировочного набора данных и определите тройку наиболее коррелированных между собой признаков."
      ],
      "metadata": {
        "id": "kKrNXjxTCS1D"
      }
    },
    {
      "cell_type": "code",
      "source": [
        "sns.heatmap(X_train.corr())"
      ],
      "metadata": {
        "id": "HFtdKOdG62hS",
        "colab": {
          "base_uri": "https://localhost:8080/",
          "height": 453
        },
        "outputId": "6aa63a1b-d345-4cb9-e59c-eb9c51413408"
      },
      "execution_count": 76,
      "outputs": [
        {
          "output_type": "execute_result",
          "data": {
            "text/plain": [
              "<Axes: >"
            ]
          },
          "metadata": {},
          "execution_count": 76
        },
        {
          "output_type": "display_data",
          "data": {
            "text/plain": [
              "<Figure size 640x480 with 2 Axes>"
            ],
            "image/png": "[encoded data removed]"
          },
          "metadata": {}
        }
      ]
    },
    {
      "cell_type": "markdown",
      "source": [
        "Линейные модели достаточно плохо реагируют на коррелированные признаки, поэтому от таких признаков имеет смысл избавиться еще до начала обучения."
      ],
      "metadata": {
        "id": "Cx1RHggagRLr"
      }
    },
    {
      "cell_type": "markdown",
      "source": [
        "Для уменьшения количества неинформативных измерений используйте метод главных компонент.\n",
        "\n",
        "1) Примените метод главных компонент (<code>PCA(n_components=3, svd_solver='full')</code>) для трех найденных наиболее коррелированных признаков.\n",
        "\n",
        "2) Вычислите долю объясненной дисперсии при использовании только первой главной компоненты.\n",
        "\n",
        "3) Замените три наиболее коррелированных признака на новый признак <code>Lengths</code>, значения которого совпадают со значениями счетов первой главной компоненты."
      ],
      "metadata": {
        "id": "e6AquRcu7Gvb"
      }
    },
    {
      "cell_type": "code",
      "source": [
        "species = df['Species']\n",
        "X = df.drop(['Species','Weight'],axis=1)\n",
        "y=df['Weight']\n",
        "X_train, X_test, y_train,y_test = train_test_split(X, y, test_size=0.2, random_state=35, stratify=species)"
      ],
      "metadata": {
        "id": "VlPLHO2U8PiA"
      },
      "execution_count": 77,
      "outputs": []
    },
    {
      "cell_type": "code",
      "source": [
        "pca = PCA(n_components=1, svd_solver='full')\n",
        "pca.fit(X_train[['Length1', 'Length2', 'Length3']])\n",
        "print('Доля объясненной дисперсии:', pca.explained_variance_ratio_)\n",
        "df['Lengths'] = pca.transform(df[['Length1', 'Length2', 'Length3']])\n",
        "df.drop(['Length1', 'Length2', 'Length3'], axis=1, inplace=True)"
      ],
      "metadata": {
        "colab": {
          "base_uri": "https://localhost:8080/"
        },
        "id": "cxvAorI1urpK",
        "outputId": "d1f0f569-6526-4b63-8341-bc9af9543300"
      },
      "execution_count": 78,
      "outputs": [
        {
          "output_type": "stream",
          "name": "stdout",
          "text": [
            "Доля объясненной дисперсии: [0.99607802]\n"
          ]
        }
      ]
    },
    {
      "cell_type": "markdown",
      "source": [
        "Примените полученное преобразование для тех же признаков в тестовом наборе данных. Обратите внимание, что заново обучать преобразование `PCA` не нужно. Аналогично предыдущему этапу замените три рассмотренных признака на один."
      ],
      "metadata": {
        "id": "kDrK2-Nd_ogF"
      }
    },
    {
      "cell_type": "code",
      "source": [
        "species = df['Species']\n",
        "X = df.drop(['Species','Weight'],axis=1)\n",
        "y=df['Weight']\n",
        "X_train, X_test, y_train,y_test = train_test_split(X, y, test_size=0.2, random_state=35,stratify=species)"
      ],
      "metadata": {
        "id": "xEOAkMFf-T5m"
      },
      "execution_count": 79,
      "outputs": []
    },
    {
      "cell_type": "code",
      "source": [],
      "metadata": {
        "colab": {
          "base_uri": "https://localhost:8080/"
        },
        "id": "1CWVO0Zcy63Q",
        "outputId": "2fa0b25e-1106-42d4-c4fa-4530d1a26628"
      },
      "execution_count": 49,
      "outputs": [
        {
          "output_type": "execute_result",
          "data": {
            "text/plain": [
              "0.8247198779371712"
            ]
          },
          "metadata": {},
          "execution_count": 49
        }
      ]
    },
    {
      "cell_type": "markdown",
      "source": [
        "Обучите базовую модель линейной регресси на полученных тренировочных данных, снова выбросив категориальные признаки. Выполните предсказания для тестовых данных, оцените при помощи <code>r2_score()</code>."
      ],
      "metadata": {
        "id": "NGiPC64DAmRb"
      }
    },
    {
      "cell_type": "code",
      "source": [
        "LR=LinearRegression()\n",
        "LR.fit(X_train,y_train)\n",
        "y_predict=LR.predict(X_test)\n",
        "r2=r2_score(y_test,y_predict)\n",
        "r2"
      ],
      "metadata": {
        "id": "EVu8wL6QA1Ci",
        "colab": {
          "base_uri": "https://localhost:8080/"
        },
        "outputId": "8b25c580-cc97-4df9-ae9b-4c03e75dd662"
      },
      "execution_count": 80,
      "outputs": [
        {
          "output_type": "execute_result",
          "data": {
            "text/plain": [
              "0.8430426916929759"
            ]
          },
          "metadata": {},
          "execution_count": 80
        }
      ]
    },
    {
      "cell_type": "markdown",
      "source": [
        "Видно, что точность значительно не изменилась."
      ],
      "metadata": {
        "id": "BFPWkxOnieem"
      }
    },
    {
      "cell_type": "markdown",
      "source": [
        "## Модификация признаков"
      ],
      "metadata": {
        "id": "hJm3yq--BcT7"
      }
    },
    {
      "cell_type": "markdown",
      "source": [
        "Постройте графики зависимостей признаков от целевой переменной, например, при помощи <code>sns.pairplot()</code>."
      ],
      "metadata": {
        "id": "T11p0ltmEFwR"
      }
    },
    {
      "cell_type": "code",
      "source": [
        "# < ENTER YOUR CODE HERE >"
      ],
      "metadata": {
        "id": "0rifKCoWEQYj"
      },
      "execution_count": null,
      "outputs": []
    },
    {
      "cell_type": "markdown",
      "source": [
        "Видно, что масса, вообще говоря, нелинейно зависит от остальных параметров. Значит, чтобы линейная модель хорошо справлялась с предсказанием, признаки имеет смысл преобразовать так, чтобы зависимость стала более похожей на линейную. Но как придумать такую зависимость?"
      ],
      "metadata": {
        "id": "L-v73i1vhi_9"
      }
    },
    {
      "cell_type": "markdown",
      "source": [
        "Логично предположить, что масса рыбы должна каким-то гладким образом зависеть от остальных параметров, отвечающих так или иначе за размеры. Если впомнить, что масса — это произведение плотности на объем, то\n",
        "\n",
        "$$\n",
        "m = \\rho \\cdot V.\n",
        "$$\n",
        "\n",
        "Допустим, что средняя плотность у всех рыб одинаковая, и вспомним, что при гомотетии объем объекта зависит от линейных размеров как куб, тогда получим\n",
        "\n",
        "$$\n",
        "m\\sim V\\sim d^3\n",
        "$$\n",
        "\n",
        "Все признаки тренировочного и тестового наборов данных, отвечающие так или иначе за размеры (<code>Height, Width, Lengths</code>), возведите в третью степень, и проверьте, стала ли зависимость массы от этих признаков похожа на линейную."
      ],
      "metadata": {
        "id": "sSIndS-yCP6P"
      }
    },
    {
      "cell_type": "code",
      "source": [
        "df[['Width', 'Height', 'Lengths']] = df[['Width', 'Height', 'Lengths']].apply(lambda x: x**3)\n",
        "species = df['Species']\n",
        "X = df.drop(['Species','Weight'],axis=1)\n",
        "y=df['Weight']\n",
        "X_train, X_test, y_train,y_test = train_test_split(X, y, test_size=0.2, random_state=35,stratify=species)\n"
      ],
      "metadata": {
        "id": "DOK0OyLVEmrh",
        "colab": {
          "base_uri": "https://localhost:8080/"
        },
        "outputId": "b134dc1e-0f73-4108-93fc-f0f89bafd58d"
      },
      "execution_count": 81,
      "outputs": [
        {
          "output_type": "stream",
          "name": "stdout",
          "text": [
            "Среднее Width после возведения в куб: 131.27449030707905\n"
          ]
        }
      ]
    },
    {
      "cell_type": "markdown",
      "source": [
        "Введите выборочное среднее колонки <code>Width</code> тренировочного набора данных после возведения в куб."
      ],
      "metadata": {
        "id": "Jm-1XAOpE_Dc"
      }
    },
    {
      "cell_type": "code",
      "source": [
        "\n",
        "print('Среднее Width после возведения в куб:', X_train['Width'].mean())"
      ],
      "metadata": {
        "id": "5-2zYkgWGCFN",
        "colab": {
          "base_uri": "https://localhost:8080/"
        },
        "outputId": "3cc04b85-b47a-4b5c-bd4a-71c58858951a"
      },
      "execution_count": 82,
      "outputs": [
        {
          "output_type": "stream",
          "name": "stdout",
          "text": [
            "Среднее Width после возведения в куб: 131.27449030707905\n"
          ]
        }
      ]
    },
    {
      "cell_type": "markdown",
      "source": [
        "Выберите изображения, соответствующие зависимости <code>Weight</code> от <code>Width</code> до преобразования и после."
      ],
      "metadata": {
        "id": "PCKM-CcQjfH5"
      }
    },
    {
      "cell_type": "code",
      "source": [
        "unique_species = df['Species'].unique()\n",
        "for i in unique_species:\n",
        "    plt.scatter(df[df['Species'] == i]['Width'], df[df['Species'] == i]['Weight'], label=i)\n",
        "plt.legend()\n",
        "plt.xlabel('Width')\n",
        "plt.ylabel('Weight')\n",
        "plt.show()"
      ],
      "metadata": {
        "colab": {
          "base_uri": "https://localhost:8080/",
          "height": 449
        },
        "id": "1erZ2Rfd4-WH",
        "outputId": "b3ec3857-84e3-4b73-b0f7-54e5e25565b0"
      },
      "execution_count": 83,
      "outputs": [
        {
          "output_type": "display_data",
          "data": {
            "text/plain": [
              "<Figure size 640x480 with 1 Axes>"
            ],
            "image/png": "[encoded data removed]"
          },
          "metadata": {}
        }
      ]
    },
    {
      "cell_type": "markdown",
      "source": [
        "Обучите базовую модель линейной регресси на полученных тренировочных данных, снова выбросив категориальные признаки. Выполните предсказания для тестовых данных, оцените при помощи `r2_score()`."
      ],
      "metadata": {
        "id": "NZtrdFamiTl1"
      }
    },
    {
      "cell_type": "code",
      "source": [
        "LR=LinearRegression()\n",
        "LR.fit(X_train,y_train)\n",
        "y_predict=LR.predict(X_test)\n",
        "r2=r2_score(y_test,y_predict)\n",
        "r2"
      ],
      "metadata": {
        "id": "ybKUGN-GGUoH",
        "colab": {
          "base_uri": "https://localhost:8080/"
        },
        "outputId": "038c9380-51ca-4fdc-ae8e-09e5983ec679"
      },
      "execution_count": 84,
      "outputs": [
        {
          "output_type": "execute_result",
          "data": {
            "text/plain": [
              "0.9287633986391914"
            ]
          },
          "metadata": {},
          "execution_count": 84
        }
      ]
    },
    {
      "cell_type": "markdown",
      "source": [
        "Обратите внимание на то, как такая нехитрая работа с признаками помогла разительно улучшить точность модели!"
      ],
      "metadata": {
        "id": "WReH7dKZirOt"
      }
    },
    {
      "cell_type": "markdown",
      "source": [
        "## Добавление категориальных признаков"
      ],
      "metadata": {
        "id": "MesFzgX1Sqgz"
      }
    },
    {
      "cell_type": "markdown",
      "source": [
        "Произведите <code>one-hot</code> кодировние категориального признака `Species`, например, с помощью <code>pd.get_dummies()</code>.\n",
        "\n",
        "Обучите модель линейной регресси на полученных тренировочных данных. Выполните предсказания для тестовых данных, оцените модель при помощи <code>r2_score()</code>.\n",
        "\n",
        "<b>Примечание</b>: Мы специально использовали стратифицированное разделение, чтобы все значения категориального признака <code>Species</code> присутствовали во всех наборах данных. Но такое возможно не всегда. Про то, как с этим бороться можно почитать, [например, здесь](https://predictivehacks.com/?all-tips=how-to-deal-with-get_dummies-in-train-and-test-dataset)."
      ],
      "metadata": {
        "id": "VThVRIkvSuV0"
      }
    },
    {
      "cell_type": "code",
      "source": [
        "dummies = pd.get_dummies(df['Species'])\n",
        "df[list(dummies.columns)] = dummies\n",
        "species = df['Species']\n",
        "X = df.drop(['Species','Weight'],axis=1)\n",
        "y=df['Weight']\n",
        "X_train, X_test, y_train,y_test = train_test_split(X, y, test_size=0.2, random_state=35,stratify=species)\n",
        "LR=LinearRegression()\n",
        "LR.fit(X_train,y_train)\n",
        "y_predict=LR.predict(X_test)\n",
        "r2=r2_score(y_test,y_predict)\n",
        "r2"
      ],
      "metadata": {
        "id": "AcJDFGFLSpzT",
        "colab": {
          "base_uri": "https://localhost:8080/"
        },
        "outputId": "52bcf769-2513-4f90-f2c5-e8cd42630f72"
      },
      "execution_count": 86,
      "outputs": [
        {
          "output_type": "execute_result",
          "data": {
            "text/plain": [
              "0.9333388970520833"
            ]
          },
          "metadata": {},
          "execution_count": 86
        }
      ]
    },
    {
      "cell_type": "markdown",
      "source": [
        "И снова точность возрасла."
      ],
      "metadata": {
        "id": "bBDsQEGvjMV2"
      }
    },
    {
      "cell_type": "markdown",
      "source": [
        "Как можно увидеть, после `one-hot` кодирования признаки стали коррелированы. От этого можно избавиться, например, при помощи параметра `drop_first=True`. Заново обучите модель после исправления этого недочета. Выполните предсказания для тестовых данных, оцените модель при помощи <code>r2_score()</code>."
      ],
      "metadata": {
        "id": "vciWw1gajo5H"
      }
    },
    {
      "cell_type": "code",
      "source": [
        "df.drop(list(dummies.columns), axis=1, inplace=True)\n",
        "dummies = pd.get_dummies(df['Species'], drop_first=True)\n",
        "df[list(dummies.columns)] = dummies\n",
        "species = df['Species']\n",
        "X = df.drop(['Species','Weight'],axis=1)\n",
        "y=df['Weight']\n",
        "X_train, X_test, y_train,y_test = train_test_split(X, y, test_size=0.2, random_state=35,stratify=species)\n",
        "LR=LinearRegression()\n",
        "LR.fit(X_train,y_train)\n",
        "y_predict=LR.predict(X_test)\n",
        "r2=r2_score(y_test,y_predict)\n",
        "r2"
      ],
      "metadata": {
        "id": "zV6u-Ha1kH3p",
        "colab": {
          "base_uri": "https://localhost:8080/"
        },
        "outputId": "98ea33f5-bd3d-42b5-dc82-e308126784bb"
      },
      "execution_count": 87,
      "outputs": [
        {
          "output_type": "execute_result",
          "data": {
            "text/plain": [
              "0.9333388970520823"
            ]
          },
          "metadata": {},
          "execution_count": 87
        }
      ]
    },
    {
      "cell_type": "markdown",
      "source": [
        "На таком сравнительно небольшом наборе данных, впрочем, разницы мы не видим."
      ],
      "metadata": {
        "id": "ABS2Tw6tkSW5"
      }
    },
    {
      "cell_type": "code",
      "source": [],
      "metadata": {
        "id": "wVjwjFNB0BPB"
      },
      "execution_count": null,
      "outputs": []
    }
  ]
}